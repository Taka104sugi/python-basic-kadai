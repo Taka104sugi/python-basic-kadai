{
  "nbformat": 4,
  "nbformat_minor": 0,
  "metadata": {
    "colab": {
      "provenance": [],
      "authorship_tag": "ABX9TyN8jR9CX43LAIsHrOJ20Mi2",
      "include_colab_link": true
    },
    "kernelspec": {
      "name": "python3",
      "display_name": "Python 3"
    },
    "language_info": {
      "name": "python"
    }
  },
  "cells": [
    {
      "cell_type": "markdown",
      "metadata": {
        "id": "view-in-github",
        "colab_type": "text"
      },
      "source": [
        "<a href=\"https://colab.research.google.com/github/Taka104sugi/python-basic-kadai/blob/main/Untitled9.ipynb\" target=\"_parent\"><img src=\"https://colab.research.google.com/assets/colab-badge.svg\" alt=\"Open In Colab\"/></a>"
      ]
    },
    {
      "cell_type": "code",
      "execution_count": null,
      "metadata": {
        "id": "URNrYECIFxNi"
      },
      "outputs": [],
      "source": [
        "x = 10\n",
        "y = 20\n",
        "z = 5\n",
        "\n",
        "q = (x + y)*z / 2\n",
        "print(str(q) + \"cm²\")\n"
      ]
    }
  ]
}